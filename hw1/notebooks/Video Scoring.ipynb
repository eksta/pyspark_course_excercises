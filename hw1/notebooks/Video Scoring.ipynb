{
 "cells": [
  {
   "cell_type": "code",
   "execution_count": 1,
   "id": "4b94b2e0-3796-411b-ad82-1b56e7f89e1f",
   "metadata": {},
   "outputs": [],
   "source": [
    "import pyspark\n",
    "from pyspark.sql.functions import *\n",
    "from pyspark.sql.types import *\n",
    "from pyspark.sql import SparkSession\n",
    "\n",
    "spark = SparkSession.builder.master(\"local\") \\\n",
    "    .config('spark.sql.autoBroadcastJoinThreshold', 0) \\\n",
    "    .config('spark.sql.adaptive.enabled', 'false') \\\n",
    "    .getOrCreate()"
   ]
  },
  {
   "cell_type": "code",
   "execution_count": 2,
   "id": "b2472238-41e7-420a-b667-abadfc856f9d",
   "metadata": {},
   "outputs": [
    {
     "name": "stdout",
     "output_type": "stream",
     "text": [
      "+-----------+--------------------+--------------------+-----------+--------------------+-------+------+--------+-------------+--------------------+-----+\n",
      "|   video_id|               title|       channel_title|category_id|                tags|  views| likes|dislikes|comment_total|      thumbnail_link| date|\n",
      "+-----------+--------------------+--------------------+-----------+--------------------+-------+------+--------+-------------+--------------------+-----+\n",
      "|XpVt6Z1Gjjo|1 YEAR OF VLOGGIN...|    Logan Paul Vlogs|         24|logan paul vlog|l...|4394029|320053|    5931|        46245|https://i.ytimg.c...|13.09|\n",
      "|K4wEI5zhHB0|iPhone X — Introd...|               Apple|         28|Apple|iPhone 10|i...|7860119|185853|   26679|            0|https://i.ytimg.c...|13.09|\n",
      "|cLdxuaxaQwc|         My Response|           PewDiePie|         22|              [none]|5845909|576597|   39774|       170708|https://i.ytimg.c...|13.09|\n",
      "|WYYvHb03Eog|Apple iPhone X fi...|           The Verge|         28|apple iphone x ha...|2642103| 24975|    4542|        12829|https://i.ytimg.c...|13.09|\n",
      "|sjlHnJvXdQs|   iPhone X (parody)|          jacksfilms|         23|jacksfilms|parody...|1168130| 96666|     568|         6666|https://i.ytimg.c...|13.09|\n",
      "|cMKX2tE5Luk|The Disaster Arti...|                 A24|          1|a24|a24 films|a24...|1311445| 34507|     544|         3040|https://i.ytimg.c...|13.09|\n",
      "|8wNr-NQImFg|The Check In: HUD...|Late Night with S...|         23|Late night|Seth M...| 666169|  9985|     297|         1071|https://i.ytimg.c...|13.09|\n",
      "|_HTXMhKWqnA|iPhone X Impressi...|    Marques Brownlee|         28|iPhone X|iphone x...|1728614| 74062|    2180|        15297|https://i.ytimg.c...|13.09|\n",
      "|_ANP3HR1jsM|ATTACKED BY A POL...|    RomanAtwoodVlogs|         22|Roman Atwood|Roma...|1338533| 69687|     678|         5643|https://i.ytimg.c...|13.09|\n",
      "|zgLtEob6X-Q|Honest Trailers -...|      Screen Junkies|          1|screenjunkies|scr...|1056891| 29943|     878|         4046|https://i.ytimg.c...|13.09|\n",
      "|Ayb_2qbZHm4| Honest College Tour|        CollegeHumor|         23|Collegehumor|CH o...| 859289| 34485|     726|         1914|https://i.ytimg.c...|13.09|\n",
      "|CsdzflTXBVQ|Best Floyd Maywea...|     Awkward Puppets|         23|best floyd maywea...| 452477| 28050|     405|         2745|https://i.ytimg.c...|13.09|\n",
      "|l864IBj7cgw|Jennifer Lawrence...|The Tonight Show ...|         23|The Tonight Show|...| 258781|  8085|     303|          726|https://i.ytimg.c...|13.09|\n",
      "|4MkC65emkG4|Hand In Hand A Be...|                 MTV|         24|mtv|video|online|...| 274358|  9215|     477|          838|https://i.ytimg.c...|13.09|\n",
      "|vu_9muoxT50|Colin Cloud: Mind...|America's Got Talent|         24|America's Got Tal...| 473691| 14740|     415|         1696|https://i.ytimg.c...|13.09|\n",
      "|1L7JFN7tQLs|iPhone X Hands on...|   Jonathan Morrison|         28|Apple|iPhone X|iP...| 514972| 18936|     641|         3817|https://i.ytimg.c...|13.09|\n",
      "|ZQK1F0wz6z4|What Do You Want ...| Wong Fu Productions|         24|panda|what should...| 282858| 14870|     300|         1398|https://i.ytimg.c...|13.09|\n",
      "|T_PuZBdT2iM|getting into a co...|               ProZD|          1|skit|korean|langu...|1582683| 65749|    1531|         3598|https://i.ytimg.c...|13.09|\n",
      "|w8fAellnPns|Juicy Chicken Bre...| You Suck At Cooking|         26|how to|cooking|re...| 479951| 23945|     640|         1941|https://i.ytimg.c...|13.09|\n",
      "|UCrBICYM0yM|Downsizing (2017)...|  Paramount Pictures|          1|downsizing|previe...|2693468|  7941|     302|         1432|https://i.ytimg.c...|13.09|\n",
      "+-----------+--------------------+--------------------+-----------+--------------------+-------+------+--------+-------------+--------------------+-----+\n",
      "only showing top 20 rows\n",
      "\n"
     ]
    }
   ],
   "source": [
    "videos = spark.read.option('header', 'true').option(\"inferSchema\", \"true\").csv('../datasets/USvideos.csv')\n",
    "videos.show()"
   ]
  },
  {
   "cell_type": "code",
   "execution_count": 3,
   "id": "805005cc-0c92-45e3-ab79-44a348f9c2d3",
   "metadata": {},
   "outputs": [
    {
     "name": "stdout",
     "output_type": "stream",
     "text": [
      "+-----------+--------------------+-----+-------+\n",
      "|   video_id|        comment_text|likes|replies|\n",
      "+-----------+--------------------+-----+-------+\n",
      "|XpVt6Z1Gjjo|Logan Paul it's y...|    4|      0|\n",
      "|XpVt6Z1Gjjo|I've been followi...|    3|      0|\n",
      "|XpVt6Z1Gjjo|Say hi to Kong an...|    3|      0|\n",
      "|XpVt6Z1Gjjo| MY FAN . attendance|    3|      0|\n",
      "|XpVt6Z1Gjjo|         trending 😉|    3|      0|\n",
      "|XpVt6Z1Gjjo|#1 on trending AY...|    3|      0|\n",
      "|XpVt6Z1Gjjo|The end though 😭...|    4|      0|\n",
      "|XpVt6Z1Gjjo|#1 trending!!!!!!!!!|    3|      0|\n",
      "|XpVt6Z1Gjjo|Happy one year vl...|    3|      0|\n",
      "|XpVt6Z1Gjjo|You and your shit...|    0|      0|\n",
      "|XpVt6Z1Gjjo|There should be a...|    0|      0|\n",
      "|XpVt6Z1Gjjo|Dear Logan, I rea...|    0|      0|\n",
      "|XpVt6Z1Gjjo|Honestly Evan is ...|    0|      0|\n",
      "|XpVt6Z1Gjjo|Casey is still be...|    0|      0|\n",
      "|XpVt6Z1Gjjo|aw geez rick this...|    0|      0|\n",
      "|XpVt6Z1Gjjo|He happy cause he...|    0|      0|\n",
      "|XpVt6Z1Gjjo|Ayyyyoooo Logang ...|    1|      0|\n",
      "|XpVt6Z1Gjjo|Bro y didnt u giv...|    0|      0|\n",
      "|XpVt6Z1Gjjo|It's been fun wat...|    3|      0|\n",
      "|XpVt6Z1Gjjo|Made a lot of peo...|    0|      0|\n",
      "+-----------+--------------------+-----+-------+\n",
      "only showing top 20 rows\n",
      "\n"
     ]
    }
   ],
   "source": [
    "comments_schema = StructType([ \\\n",
    "    StructField(\"video_id\", StringType(), True), \\\n",
    "    StructField(\"comment_text\", StringType(), True), \\\n",
    "    StructField(\"likes\", IntegerType(), True), \\\n",
    "    StructField(\"replies\", IntegerType(), True), \\\n",
    "])\n",
    "comments = spark.read.option('header', 'true').option(\"mode\", \"DROPMALFORMED\").schema(comments_schema).csv('../datasets/UScomments.csv')\n",
    "comments.show()"
   ]
  },
  {
   "cell_type": "code",
   "execution_count": 4,
   "id": "9d8e4fbc-841a-4ba3-9258-c8ee6d5ea506",
   "metadata": {
    "scrolled": true
   },
   "outputs": [
    {
     "name": "stdout",
     "output_type": "stream",
     "text": [
      "+-----------+---------+\n",
      "|   video_id|part_size|\n",
      "+-----------+---------+\n",
      "|LunHybOKIjU|        8|\n",
      "|Hlt3rA-oDao|        8|\n",
      "|Oo0NJsr5m4I|        8|\n",
      "|jUrpOg4fBs0|        7|\n",
      "|j5YSOabmFgw|        7|\n",
      "|CYoRmfI0LUc|        7|\n",
      "|mlxdnyfkWKQ|        7|\n",
      "|udnGW3E1vxY|        7|\n",
      "|3QWQ4gN3j4E|        7|\n",
      "|M16CGK1T9MM|        7|\n",
      "|XpVt6Z1Gjjo|        7|\n",
      "|74zJ4scJzNs|        7|\n",
      "|APHgDFRpCi0|        7|\n",
      "|4X6a3G_0HjY|        7|\n",
      "|SHq2qrFUlGY|        7|\n",
      "|rgbnZG85IRo|        7|\n",
      "|oKzFGhlFqqE|        7|\n",
      "|5ggZ9jIHnr8|        7|\n",
      "|DeTu8xSGpEM|        7|\n",
      "|OlI8r3nNUVw|        7|\n",
      "+-----------+---------+\n",
      "only showing top 20 rows\n",
      "\n"
     ]
    }
   ],
   "source": [
    "import pandas as pd\n",
    "from pyspark.sql.functions import pandas_udf\n",
    "\n",
    "videos.groupby(\"video_id\") \\\n",
    "    .agg(count(\"video_id\").alias(\"part_size\")) \\\n",
    "    .orderBy(desc(\"part_size\")).show()\n",
    "\n",
    "\n",
    "videos.write.bucketBy(16,\"video_id\") \\\n",
    "  .saveAsTable(\"bucket_videos\", format = \"parquet\", mode = \"overwrite\")\n",
    "\n",
    "comments.write.bucketBy(16,\"video_id\") \\\n",
    "  .saveAsTable(\"bucket_comments\", format = \"parquet\", mode = \"overwrite\")\n",
    "\n",
    "\n"
   ]
  },
  {
   "cell_type": "code",
   "execution_count": 5,
   "id": "98511685-6e2a-4964-ac35-19590b0477b8",
   "metadata": {
    "scrolled": true
   },
   "outputs": [],
   "source": [
    "bucket_videos   = spark.table(\"bucket_videos\")\n",
    "bucket_comments = spark.table(\"bucket_comments\")\n"
   ]
  },
  {
   "cell_type": "code",
   "execution_count": 6,
   "id": "5cdf7c7c-e39c-4e3a-b59f-2f660e23c527",
   "metadata": {
    "scrolled": true
   },
   "outputs": [
    {
     "name": "stdout",
     "output_type": "stream",
     "text": [
      "+-----------+-------------+---------------+\n",
      "|   video_id|comment_likes|comment_replies|\n",
      "+-----------+-------------+---------------+\n",
      "|zgLtEob6X-Q|           43|              2|\n",
      "|B7YaMkCl3XA|           54|             96|\n",
      "|6vGg-jJl30A|            9|              4|\n",
      "|bp6uJJJMaLs|          629|             35|\n",
      "|Pp19TkIU_fw|         1966|            181|\n",
      "|u6iVspBWzZU|           11|              0|\n",
      "|wGQtrwey-TI|          833|            401|\n",
      "|ykvX-E1nuag|            1|              0|\n",
      "|AR4UgRJOUQY|           28|              1|\n",
      "|Zy6vBxqlapw|           58|              0|\n",
      "|Lv5DFKceFac|           37|              8|\n",
      "|9YyB6sQ4iwA|          191|             43|\n",
      "|IYvEhgYy35I|           88|              7|\n",
      "|JZDM1bLn7sM|           10|              3|\n",
      "|tBN9kLaS-uw|           61|              3|\n",
      "|bvim4rsNHkQ|           65|            101|\n",
      "|zKriLekFPwg|          288|             41|\n",
      "|4F2KWDQQMhY|           51|             22|\n",
      "|z5eG8fD-hQw|            6|              6|\n",
      "|FfRGxN2zeWU|          338|             41|\n",
      "+-----------+-------------+---------------+\n",
      "only showing top 20 rows\n",
      "\n"
     ]
    }
   ],
   "source": [
    "comments_stat = bucket_comments.distinct().select(\"video_id\", \"likes\", \"replies\").groupBy(\"video_id\").agg(\n",
    "    sum(\"likes\").alias(\"comment_likes\"),\n",
    "    sum(\"replies\").alias(\"comment_replies\"))\n",
    "\n",
    "comments_stat.show()"
   ]
  },
  {
   "cell_type": "markdown",
   "id": "3564eca6-9d19-4204-ba27-9b6d3a595d07",
   "metadata": {},
   "source": [
    "# 1) Scored_videos. Scoring videos."
   ]
  },
  {
   "cell_type": "code",
   "execution_count": 7,
   "id": "3e35f431-851a-44bd-b9ae-68cdc0648fa3",
   "metadata": {},
   "outputs": [],
   "source": [
    "def scoring_videos(views: pd.Series,\n",
    "                   likes: pd.Series,\n",
    "                   dislikes: pd.Series,\n",
    "                   comment_likes: pd.Series,\n",
    "                   comment_replies: pd.Series) -> pd.Series:\n",
    "                       return views * 0.03 \\\n",
    "                            + likes * 0.07 \\\n",
    "                            + dislikes * 0.05 \\\n",
    "                            + comment_likes * 0.01 \\\n",
    "                            + comment_replies * 0.02\n",
    "scoring_videos = pandas_udf(scoring_videos, returnType=LongType())  "
   ]
  },
  {
   "cell_type": "code",
   "execution_count": 8,
   "id": "54fe917c-7cfd-4f18-9324-351f52a04f59",
   "metadata": {},
   "outputs": [],
   "source": [
    "scored_videos = bucket_videos.join(comments_stat, \"video_id\", \"left\")\\\n",
    "                          .withColumn(\"score\", scoring_videos(\"views\", \n",
    "                                                              \"likes\",\n",
    "                                                              \"dislikes\",\n",
    "                                                              \"comment_likes\", \n",
    "                                                              \"comment_replies\"))"
   ]
  },
  {
   "cell_type": "code",
   "execution_count": 9,
   "id": "9622c1ef-37e4-4dec-bac5-1e3dc96793a3",
   "metadata": {},
   "outputs": [
    {
     "name": "stdout",
     "output_type": "stream",
     "text": [
      "+-----------+------+\n",
      "|   video_id| score|\n",
      "+-----------+------+\n",
      "|3TDk34hnSXc|  2756|\n",
      "|4F2KWDQQMhY|  7235|\n",
      "|4F2KWDQQMhY|  7988|\n",
      "|5eSSL8hRU_E|   940|\n",
      "|5eSSL8hRU_E|  1448|\n",
      "|6vGg-jJl30A|  6424|\n",
      "|6vGg-jJl30A|  7344|\n",
      "|9YyB6sQ4iwA| 25214|\n",
      "|9YyB6sQ4iwA| 40984|\n",
      "|AR4UgRJOUQY| 39563|\n",
      "|B7YaMkCl3XA| 11598|\n",
      "|B7YaMkCl3XA| 12019|\n",
      "|B7YaMkCl3XA| 12240|\n",
      "|FfRGxN2zeWU| 53452|\n",
      "|FfRGxN2zeWU| 63714|\n",
      "|IYvEhgYy35I|  3697|\n",
      "|IYvEhgYy35I|  5894|\n",
      "|IYvEhgYy35I|  7293|\n",
      "|JZDM1bLn7sM|  7315|\n",
      "|JZDM1bLn7sM|  8437|\n",
      "|JZDM1bLn7sM|  9027|\n",
      "|Lv5DFKceFac| 11924|\n",
      "|Pp19TkIU_fw|  5820|\n",
      "|Pp19TkIU_fw|  6208|\n",
      "|Q1eQw4ycgQM|   477|\n",
      "|Q1eQw4ycgQM|  3238|\n",
      "|SHq2qrFUlGY|137052|\n",
      "|Zy6vBxqlapw| 96337|\n",
      "|bp6uJJJMaLs|  1358|\n",
      "|bp6uJJJMaLs|  1566|\n",
      "|bp6uJJJMaLs|  1677|\n",
      "|bvim4rsNHkQ| 47532|\n",
      "|bvim4rsNHkQ| 70881|\n",
      "|lno7AN8hLvQ|  4280|\n",
      "|tBN9kLaS-uw| 64290|\n",
      "|tBN9kLaS-uw| 80963|\n",
      "|u6iVspBWzZU|  6117|\n",
      "|u6iVspBWzZU|  6506|\n",
      "|uWFAD84I66I|  3327|\n",
      "|wGQtrwey-TI| 19657|\n",
      "|wGQtrwey-TI| 20352|\n",
      "|ykvX-E1nuag|  5864|\n",
      "|ykvX-E1nuag|  5973|\n",
      "|z5eG8fD-hQw|  4058|\n",
      "|z5eG8fD-hQw|  4474|\n",
      "|zKriLekFPwg|  1576|\n",
      "|zKriLekFPwg|  4213|\n",
      "|zgLtEob6X-Q| 33847|\n",
      "|zgLtEob6X-Q| 42627|\n",
      "|zgLtEob6X-Q| 47367|\n",
      "+-----------+------+\n",
      "only showing top 50 rows\n",
      "\n"
     ]
    }
   ],
   "source": [
    "scored_videos.select(\"video_id\", \"score\").show(50)"
   ]
  },
  {
   "cell_type": "markdown",
   "id": "a1b66fed-d40e-4b45-b584-e0419246418e",
   "metadata": {},
   "source": [
    "# 2) Categories_score. Median"
   ]
  },
  {
   "cell_type": "code",
   "execution_count": 10,
   "id": "6d601fba-dcc8-4957-9001-1193bde5dda3",
   "metadata": {},
   "outputs": [],
   "source": [
    "import json\n",
    "with open(\"../datasets/US_category_id.json\") as f:\n",
    "    data_json = json.load(f)\n",
    "    categories = spark.createDataFrame(data_json['items'])\n"
   ]
  },
  {
   "cell_type": "markdown",
   "id": "e2d42d9c-0b33-4d1a-9341-6a13cad84c65",
   "metadata": {},
   "source": [
    "категории - мелкий справочник, который лучше забродкастить"
   ]
  },
  {
   "cell_type": "code",
   "execution_count": 11,
   "id": "e1caec47-c19a-42ae-ac64-47d35efd43c9",
   "metadata": {},
   "outputs": [
    {
     "name": "stdout",
     "output_type": "stream",
     "text": [
      "+-----------+--------------------+------------------+-----------+--------------------+-------+-----+--------+-------------+-----+-------------+---------------+-----+--------------------+\n",
      "|   video_id|               title|     channel_title|category_id|                tags|  views|likes|dislikes|comment_total| date|comment_likes|comment_replies|score|            category|\n",
      "+-----------+--------------------+------------------+-----------+--------------------+-------+-----+--------+-------------+-----+-------------+---------------+-----+--------------------+\n",
      "|6vGg-jJl30A|THIS MADE MY DAD ...|       Nile Wilson|         17|nile wilson|nile ...| 185541|12179|     115|          827|13.09|            9|              4| 6424|              Sports|\n",
      "|AR4UgRJOUQY|What Does Your Se...|       AsapSCIENCE|         28|Search History|De...|1244953|29748|    2639|         4112|13.09|           28|              1|39563|Science & Technology|\n",
      "|B7YaMkCl3XA|Hurricane Irma de...|Al Jazeera English|         25|5573051142001|ame...| 382525| 1521|     270|         1168|13.09|           54|             96|11598|     News & Politics|\n",
      "|Lv5DFKceFac|Thomas Rhett - Sw...|   ThomasRhettVEVO|         10|Thomas|Rhett|Swee...| 376381| 8909|     170|          334|13.09|           37|              8|11924|               Music|\n",
      "|Pp19TkIU_fw|Life of Kylie Rec...|  E! Entertainment|         24|Kylie Jenner|Real...| 188162| 1990|     266|          192|13.09|         1966|            181| 5820|       Entertainment|\n",
      "|Zy6vBxqlapw|Kelly Clarkson - ...|    Kelly Clarkson|         10|Kelly Clarkson|Lo...|3027926|76505|    2880|         6414|13.09|           58|              0|96337|               Music|\n",
      "|bp6uJJJMaLs|Things you need t...|   Jenny Nicholson|          1|              [none]|  39338| 2377|     103|          484|13.09|          629|             35| 1358|    Film & Animation|\n",
      "|u6iVspBWzZU|what is derealisa...|     doddlevloggle|         24|depersonalisation...| 157437|19869|      78|         2027|13.09|           11|              0| 6117|       Entertainment|\n",
      "|wGQtrwey-TI|SALTED EGG CRAB! ...| Strictly Dumpling|         19|hawker center|haw...| 622951|13260|     493|         1751|13.09|          833|            401|19657|     Travel & Events|\n",
      "|ykvX-E1nuag|How to Win Australia|      vlogbrothers|         22|australia|hank green| 173773| 9188|     166|          876|13.09|            1|              0| 5864|      People & Blogs|\n",
      "+-----------+--------------------+------------------+-----------+--------------------+-------+-----+--------+-------------+-----+-------------+---------------+-----+--------------------+\n",
      "only showing top 10 rows\n",
      "\n"
     ]
    }
   ],
   "source": [
    "video_categories = scored_videos.join(broadcast(categories.selectExpr(\"id\", \"snippet.title as category\")),\n",
    "                                          scored_videos.category_id == categories.id,'left'\n",
    "                                    ).drop(\"id\",\"thumbnail_link\" )\n",
    "video_categories.show(10)"
   ]
  },
  {
   "cell_type": "code",
   "execution_count": 12,
   "id": "8491ff56-ba15-44c0-bbaa-793daa1f2af2",
   "metadata": {},
   "outputs": [
    {
     "name": "stderr",
     "output_type": "stream",
     "text": [
      "/usr/local/spark/python/pyspark/sql/pandas/functions.py:399: UserWarning: In Python 3.6+ and Spark 3.0+, it is preferred to specify type hints for pandas UDF instead of specifying pandas UDF type which will be deprecated in the future releases. See SPARK-28264 for more details.\n",
      "  warnings.warn(\n"
     ]
    },
    {
     "name": "stdout",
     "output_type": "stream",
     "text": [
      "+--------------------+-------+\n",
      "|            category|  score|\n",
      "+--------------------+-------+\n",
      "|               Shows|  263.0|\n",
      "|           Education| 7528.5|\n",
      "|              Gaming| 8423.5|\n",
      "|       Entertainment|11966.0|\n",
      "|     Travel & Events| 7692.0|\n",
      "|Science & Technology|12217.0|\n",
      "|              Sports| 4850.5|\n",
      "|       Howto & Style| 9070.0|\n",
      "|Nonprofits & Acti...|    0.0|\n",
      "|    Film & Animation|13676.0|\n",
      "|      People & Blogs| 8930.0|\n",
      "|     News & Politics| 4436.0|\n",
      "|      Pets & Animals| 7487.0|\n",
      "|    Autos & Vehicles| 6833.5|\n",
      "|               Music| 7324.0|\n",
      "|              Comedy|29389.0|\n",
      "+--------------------+-------+\n",
      "\n"
     ]
    }
   ],
   "source": [
    "from numpy import median\n",
    "@pandas_udf(DoubleType(),PandasUDFType.GROUPED_AGG)\n",
    "def mean(score: pd.Series) -> float:\n",
    "    return median(score)\n",
    "\n",
    "categories_scored = video_categories.fillna({\"score\": 0}).groupBy(\"category\").agg(mean(\"score\").alias(\"score\"))\n",
    "categories_scored.show(100)"
   ]
  },
  {
   "cell_type": "markdown",
   "id": "70b8b7d8-6c59-414a-bbe7-4a90e0afb3c6",
   "metadata": {},
   "source": [
    "# 3) Popular tags"
   ]
  },
  {
   "cell_type": "code",
   "execution_count": 13,
   "id": "0b624d49-fbb0-45b7-9f76-52eec036a122",
   "metadata": {},
   "outputs": [],
   "source": [
    "\n",
    "from pyspark.sql.column import Column, _to_java_column, _to_seq\n",
    "sc = spark.sparkContext\n",
    "def udfSplitTagsScala(tags):\n",
    "    udf = sc._jvm.CustomUDFs.splitTagsUDF()\n",
    "    return Column(udf.apply(_to_seq(sc,[tags], _to_java_column)))"
   ]
  },
  {
   "cell_type": "code",
   "execution_count": 14,
   "id": "eb1902bb-dd33-4203-b9a8-70b2924842dc",
   "metadata": {},
   "outputs": [
    {
     "name": "stdout",
     "output_type": "stream",
     "text": [
      "66.8 ms ± 10.1 ms per loop (mean ± std. dev. of 50 runs, 1 loop each)\n"
     ]
    }
   ],
   "source": [
    "%%timeit -r 50\n",
    "videos.select(udfSplitTagsScala(col(\"tags\")).alias(\"tags_arr\")).count()\n"
   ]
  },
  {
   "cell_type": "code",
   "execution_count": 15,
   "id": "d03e3759-e17b-4aa8-9ee3-506ca58a76a3",
   "metadata": {},
   "outputs": [],
   "source": [
    "@pandas_udf(ArrayType(StringType()), functionType=PandasUDFType.SCALAR)\n",
    "def udfPandasSplit(tags: pd.Series) -> pd.Series:\n",
    "    return tags.str.split('|')"
   ]
  },
  {
   "cell_type": "code",
   "execution_count": 16,
   "id": "551f93fc-5a4e-4532-b23e-0ead42632c32",
   "metadata": {},
   "outputs": [
    {
     "name": "stdout",
     "output_type": "stream",
     "text": [
      "51.3 ms ± 3.71 ms per loop (mean ± std. dev. of 50 runs, 10 loops each)\n"
     ]
    }
   ],
   "source": [
    "%%timeit -r 50\n",
    "videos.select(udfPandasSplit(col(\"tags\")).alias(\"tags_arr\")).count()"
   ]
  },
  {
   "cell_type": "code",
   "execution_count": 17,
   "id": "b30d38ce-4b03-41d0-bea9-803105cbf482",
   "metadata": {},
   "outputs": [],
   "source": [
    "popular_tags = videos.select(\"video_id\",explode(udfPandasSplit(col(\"tags\")))\n",
    "                             .alias(\"tag\")).groupBy(\"tag\").count()"
   ]
  },
  {
   "cell_type": "code",
   "execution_count": 18,
   "id": "dd5575f7-bf44-4cf4-a1b0-b0a4372ab0c2",
   "metadata": {},
   "outputs": [
    {
     "name": "stdout",
     "output_type": "stream",
     "text": [
      "+--------------------+-----+\n",
      "|                 tag|count|\n",
      "+--------------------+-----+\n",
      "|apple iphone x event|    1|\n",
      "|                 hud|    3|\n",
      "|                 NBC|  118|\n",
      "|      hannahstocking|   77|\n",
      "|              online|   14|\n",
      "|           trailer 1|    5|\n",
      "|              travel|   90|\n",
      "|           traveling|   23|\n",
      "|  darkest foundation|    9|\n",
      "|              outfit|   25|\n",
      "+--------------------+-----+\n",
      "only showing top 10 rows\n",
      "\n"
     ]
    }
   ],
   "source": [
    "popular_tags.show(10)"
   ]
  },
  {
   "cell_type": "markdown",
   "id": "f2dac93a-eed8-46ec-8b0f-27a94043a71c",
   "metadata": {},
   "source": [
    "# 4) Top 5 comment CAT"
   ]
  },
  {
   "cell_type": "raw",
   "id": "98e1e153-d03e-4041-926c-06c86bc076eb",
   "metadata": {},
   "source": [
    "ищем тэги с \"cat\"\n",
    "самые интересные комментарии к ним"
   ]
  },
  {
   "cell_type": "code",
   "execution_count": 19,
   "id": "ccad5790-86a3-4195-98d8-358875f907d0",
   "metadata": {},
   "outputs": [
    {
     "name": "stdout",
     "output_type": "stream",
     "text": [
      "+-----------+------------------------------------+-------------+-----------+--------------------+------+--------+-------------+--------------------+-----+--------------------+\n",
      "|   video_id|                               title|channel_title|category_id|                tags| views|dislikes|comment_total|      thumbnail_link| date|           tag_split|\n",
      "+-----------+------------------------------------+-------------+-----------+--------------------+------+--------+-------------+--------------------+-----+--------------------+\n",
      "|Vjc459T6wX8|更なるフィット感を追求するねこ。-...|     mugumogu|         15|Maru|cat|kitty|pe...| 43199|       7|          294|https://i.ytimg.c...|13.09|[Maru, cat, kitty...|\n",
      "|0Yhaei1S5oQ|                Japan's Ominous D...|      SciShow|         27|SciShow|science|H...|295156|     149|          781|https://i.ytimg.c...|13.09|[SciShow, science...|\n",
      "|-1fzGnFwz9M|                9 Things You Need...|  Simon's Cat|         15|cartoon|simons ca...|189414|     112|          288|https://i.ytimg.c...|13.09|[cartoon, simons ...|\n",
      "|Vjc459T6wX8|更なるフィット感を追求するねこ。-...|     mugumogu|         15|Maru|cat|kitty|pe...| 61085|       9|          362|https://i.ytimg.c...|14.09|[Maru, cat, kitty...|\n",
      "|0Yhaei1S5oQ|                Japan's Ominous D...|      SciShow|         27|SciShow|science|H...|307749|     150|          800|https://i.ytimg.c...|14.09|[SciShow, science...|\n",
      "|Vjc459T6wX8|更なるフィット感を追求するねこ。-...|     mugumogu|         15|Maru|cat|kitty|pe...| 77810|      16|          419|https://i.ytimg.c...|15.09|[Maru, cat, kitty...|\n",
      "|Vjc459T6wX8|更なるフィット感を追求するねこ。-...|     mugumogu|         15|Maru|cat|kitty|pe...| 95741|      20|          487|https://i.ytimg.c...|16.09|[Maru, cat, kitty...|\n",
      "|BY3SLVNBkeo|                Learn to Play Cat...|  Simon's Cat|         15|cartoon|simons ca...| 66418|      51|          321|https://i.ytimg.c...|23.09|[cartoon, simons ...|\n",
      "|7V1J_MDi9Lg|                  Husky's First Howl|TheAmazingTen|         22|Husky's First How...|241645|     103|          796|https://i.ytimg.c...|24.09|[Husky's First Ho...|\n",
      "|BY3SLVNBkeo|                Learn to Play Cat...|  Simon's Cat|         15|cartoon|simons ca...| 86083|      57|          367|https://i.ytimg.c...|24.09|[cartoon, simons ...|\n",
      "|7V1J_MDi9Lg|                  Husky's First Howl|TheAmazingTen|         22|Husky's First How...|675960|     269|         1607|https://i.ytimg.c...|25.09|[Husky's First Ho...|\n",
      "|BY3SLVNBkeo|                Learn to Play Cat...|  Simon's Cat|         15|cartoon|simons ca...| 98524|      62|          322|https://i.ytimg.c...|25.09|[cartoon, simons ...|\n",
      "|7V1J_MDi9Lg|                  Husky's First Howl|TheAmazingTen|         22|Husky's First How...|843914|     346|         1925|https://i.ytimg.c...|26.09|[Husky's First Ho...|\n",
      "|BY3SLVNBkeo|                Learn to Play Cat...|  Simon's Cat|         15|cartoon|simons ca...|106186|      68|          334|https://i.ytimg.c...|26.09|[cartoon, simons ...|\n",
      "|7V1J_MDi9Lg|                  Husky's First Howl|TheAmazingTen|         22|Husky's First How...|872398|     364|         1942|https://i.ytimg.c...|27.09|[Husky's First Ho...|\n",
      "|BY3SLVNBkeo|                Things you didn't...|  Simon's Cat|         15|cartoon|simons ca...|111901|      71|          349|https://i.ytimg.c...|27.09|[cartoon, simons ...|\n",
      "|7V1J_MDi9Lg|                  Husky's First Howl|TheAmazingTen|         22|Husky's First How...|892375|     380|         1944|https://i.ytimg.c...|28.09|[Husky's First Ho...|\n",
      "|tp9aQXDFHbY|                Cats Can Be A Rea...|  Simon's Cat|         15|cartoon|simons ca...|103451|     107|          313|https://i.ytimg.c...|30.09|[cartoon, simons ...|\n",
      "|tp9aQXDFHbY|                Cats Can Be A Rea...|  Simon's Cat|         15|cartoon|simons ca...|205193|     158|          423|https://i.ytimg.c...|01.10|[cartoon, simons ...|\n",
      "|tp9aQXDFHbY|                Cats Can Be A Rea...|  Simon's Cat|         15|cartoon|simons ca...|248729|     183|          481|https://i.ytimg.c...|02.10|[cartoon, simons ...|\n",
      "+-----------+------------------------------------+-------------+-----------+--------------------+------+--------+-------------+--------------------+-----+--------------------+\n",
      "only showing top 20 rows\n",
      "\n"
     ]
    }
   ],
   "source": [
    "tags = videos.withColumn(\"tag_split\", udfPandasSplit(col(\"tags\"))).drop(\"likes\")\n",
    "videos_cat = tags.filter(array_contains(\"tag_split\",\"cat\"))\n",
    "videos_cat.count()\n",
    "videos_cat.show()"
   ]
  },
  {
   "cell_type": "code",
   "execution_count": 20,
   "id": "8032d080-2aa8-4016-a4de-8d9671bbcf53",
   "metadata": {},
   "outputs": [],
   "source": [
    "videos_cat_comments = videos_cat.join(comments, \"video_id\")"
   ]
  },
  {
   "cell_type": "code",
   "execution_count": 21,
   "id": "da9ce2c0-b045-477e-a518-ee38b82ac40f",
   "metadata": {},
   "outputs": [
    {
     "name": "stdout",
     "output_type": "stream",
     "text": [
      "-RECORD 0--------------------------------------------------------------------------------------------------------------\n",
      " comment_text | talk about the ocean sunfish build                                                                     \n",
      " likes_total  | 19840                                                                                                  \n",
      "-RECORD 1--------------------------------------------------------------------------------------------------------------\n",
      " comment_text | The second I read this title in my notification, I started to giggle.                                  \n",
      " likes_total  | 11775                                                                                                  \n",
      "-RECORD 2--------------------------------------------------------------------------------------------------------------\n",
      " comment_text | Make sure to check back next Friday as we are launching our brand new animated HALLOWEEN special! 🐱🕷 \n",
      " likes_total  | 6645                                                                                                   \n",
      "-RECORD 3--------------------------------------------------------------------------------------------------------------\n",
      " comment_text | I make interesting cartoons and I need your help! Go to the channel, rate my work!                     \n",
      " likes_total  | 839                                                                                                    \n",
      "-RECORD 4--------------------------------------------------------------------------------------------------------------\n",
      " comment_text | 1:51 so your nuts are your most prized possession?                                                     \n",
      " likes_total  | 605                                                                                                    \n",
      "only showing top 5 rows\n",
      "\n"
     ]
    }
   ],
   "source": [
    "videos_cat = videos_cat_comments.groupBy(\"comment_text\") \\\n",
    "                .agg(sum(\"likes\").alias(\"likes_total\")) \\\n",
    "                .orderBy(desc(\"likes_total\")) \\\n",
    "                .show(5,False,True)\n",
    "        "
   ]
  }
 ],
 "metadata": {
  "kernelspec": {
   "display_name": "Python 3 (ipykernel)",
   "language": "python",
   "name": "python3"
  },
  "language_info": {
   "codemirror_mode": {
    "name": "ipython",
    "version": 3
   },
   "file_extension": ".py",
   "mimetype": "text/x-python",
   "name": "python",
   "nbconvert_exporter": "python",
   "pygments_lexer": "ipython3",
   "version": "3.11.4"
  }
 },
 "nbformat": 4,
 "nbformat_minor": 5
}
